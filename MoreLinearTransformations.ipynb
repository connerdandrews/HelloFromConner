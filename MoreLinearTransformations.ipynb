{
  "nbformat": 4,
  "nbformat_minor": 0,
  "metadata": {
    "colab": {
      "name": "MoreLinearTransformations.ipynb",
      "provenance": [],
      "include_colab_link": true
    },
    "kernelspec": {
      "name": "python3",
      "display_name": "Python 3"
    }
  },
  "cells": [
    {
      "cell_type": "markdown",
      "metadata": {
        "id": "view-in-github",
        "colab_type": "text"
      },
      "source": [
        "<a href=\"https://colab.research.google.com/github/connerdandrews/HelloFromConner/blob/master/MoreLinearTransformations.ipynb\" target=\"_parent\"><img src=\"https://colab.research.google.com/assets/colab-badge.svg\" alt=\"Open In Colab\"/></a>"
      ]
    },
    {
      "cell_type": "code",
      "metadata": {
        "colab": {
          "base_uri": "https://localhost:8080/",
          "height": 283
        },
        "id": "ho1hLOPCOq3_",
        "outputId": "27d75d48-3ff2-4830-bdca-1c73c6d64db7"
      },
      "source": [
        "import numpy as np\n",
        "\n",
        "from matplotlib import pyplot as plt\n",
        "x=np.linspace(-20,20,50) #This creates an array (vector) that has 50 entries equally separated starting at -10 and ending at 10.\n",
        "plt.plot(x,np.zeros(50))\n",
        "plt.plot(np.zeros(50),x)\n",
        "\n",
        "t=[]\n",
        "for i in np.linspace(0,2*np.pi,100):\n",
        "  t.append((5*np.cos(i),2*np.sin(i), 1))\n",
        "circ=np.array(t).transpose()\n",
        "x1=circ[0]\n",
        "x2=circ[1]\n",
        "plt.plot(x1,x2)\n"
      ],
      "execution_count": 51,
      "outputs": [
        {
          "output_type": "execute_result",
          "data": {
            "text/plain": [
              "[<matplotlib.lines.Line2D at 0x7fa846ad30f0>]"
            ]
          },
          "metadata": {
            "tags": []
          },
          "execution_count": 51
        },
        {
          "output_type": "display_data",
          "data": {
            "image/png": "[encoded data removed]",
            "text/plain": [
              "<Figure size 432x288 with 1 Axes>"
            ]
          },
          "metadata": {
            "tags": [],
            "needs_background": "light"
          }
        }
      ]
    },
    {
      "cell_type": "code",
      "metadata": {
        "id": "qRoKXi6RV5Kq",
        "outputId": "dfbf017a-b48f-405f-cd38-3c5fb043ee87",
        "colab": {
          "base_uri": "https://localhost:8080/",
          "height": 283
        }
      },
      "source": [
        "A = np.array(([np.cos(np.pi / 3),np.sin(np.pi/ 3),0],[np.sin(np.pi / 3),np.cos(np.pi / 3),0],[0,0,1]))\r\n",
        "B = np.array(([1,0,10],[0,1,15],[0,0,1]))\r\n",
        "circ = np.matmul(A,circ)\r\n",
        "circ = np.matmul(B,circ)\r\n",
        "x1=circ[0]\r\n",
        "x2=circ[1]\r\n",
        "plt.plot(x1,x2)\r\n",
        "plt.plot(x,np.zeros(50))\r\n",
        "plt.plot(np.zeros(50),x)"
      ],
      "execution_count": 52,
      "outputs": [
        {
          "output_type": "execute_result",
          "data": {
            "text/plain": [
              "[<matplotlib.lines.Line2D at 0x7fa846a42630>]"
            ]
          },
          "metadata": {
            "tags": []
          },
          "execution_count": 52
        },
        {
          "output_type": "display_data",
          "data": {
            "image/png": "[encoded data removed]",
            "text/plain": [
              "<Figure size 432x288 with 1 Axes>"
            ]
          },
          "metadata": {
            "tags": [],
            "needs_background": "light"
          }
        }
      ]
    }
  ]
}